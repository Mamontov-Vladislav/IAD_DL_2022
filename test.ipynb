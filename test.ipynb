{
  "cells": [
    {
      "cell_type": "markdown",
      "metadata": {
        "id": "Q_upCOEI3Upu"
      },
      "source": [
        "# Основы глубинного обучения, майнор ИАД\n",
        "\n",
        "## Домашнее задание 1. Введение в PyTorch. Полносвязные нейронные сети.\n",
        "\n",
        "### Общая информация\n",
        "\n",
        "Дата выдачи: 20.09.2022\n",
        "\n",
        "Мягкий дедлайн: 23:59MSK 04.10.2022\n",
        "\n",
        "Жесткий дедлайн: 23:59MSK 10.10.2022\n",
        "\n",
        "### Оценивание и штрафы\n",
        "Максимально допустимая оценка за работу — 10 баллов. За каждый день просрочки снимается 1 балл. Сдавать задание после жёсткого дедлайна сдачи нельзя.\n",
        "\n",
        "Задание выполняется самостоятельно. «Похожие» решения считаются плагиатом и все задействованные студенты (в том числе те, у кого списали) не могут получить за него больше 0 баллов. Если вы нашли решение какого-то из заданий (или его часть) в открытом источнике, необходимо указать ссылку на этот источник в отдельном блоке в конце вашей работы (скорее всего вы будете не единственным, кто это нашел, поэтому чтобы исключить подозрение в плагиате, необходима ссылка на источник).\n",
        "\n",
        "Неэффективная реализация кода может негативно отразиться на оценке.\n",
        "Также оценка может быть снижена за плохо читаемый код и плохо оформленные графики. Все ответы должны сопровождаться кодом или комментариями о том, как они были получены.\n",
        "\n",
        "### О задании\n",
        "\n",
        "В этом задании вам предстоит предсказывать год выпуска песни (**задача регрессии**) по некоторым звуковым признакам: [данные](https://archive.ics.uci.edu/ml/datasets/yearpredictionmsd). В ячейках ниже находится код для загрузки данных. Обратите внимание, что обучающая и тестовая выборки располагаются в одном файле, поэтому НЕ меняйте ячейку, в которой производится деление данных."
      ]
    },
    {
      "cell_type": "markdown",
      "source": [
        "## данные"
      ],
      "metadata": {
        "id": "ouZdOhFKxxxj"
      }
    },
    {
      "cell_type": "code",
      "execution_count": 1,
      "metadata": {
        "id": "RI_eoe063VaP"
      },
      "outputs": [],
      "source": [
        "import torch\n",
        "import torch.nn as nn\n",
        "import pandas as pd\n",
        "import numpy as np\n",
        "import random\n",
        "import matplotlib.pyplot as plt\n",
        "from tqdm.notebook import tqdm\n",
        "from IPython.display import clear_output"
      ]
    },
    {
      "cell_type": "code",
      "execution_count": 2,
      "metadata": {
        "id": "qVTVqSDhf_F-"
      },
      "outputs": [],
      "source": [
        "# %conda install wget"
      ]
    },
    {
      "cell_type": "code",
      "execution_count": 3,
      "metadata": {
        "id": "7NgSZeU-7vgj",
        "colab": {
          "base_uri": "https://localhost:8080/"
        },
        "outputId": "7ad08f49-7fe7-459e-b921-c594ff307b91"
      },
      "outputs": [
        {
          "output_type": "stream",
          "name": "stdout",
          "text": [
            "--2022-10-10 16:38:29--  https://archive.ics.uci.edu/ml/machine-learning-databases/00203/YearPredictionMSD.txt.zip\n",
            "Resolving archive.ics.uci.edu (archive.ics.uci.edu)... 128.195.10.252\n",
            "Connecting to archive.ics.uci.edu (archive.ics.uci.edu)|128.195.10.252|:443... connected.\n",
            "HTTP request sent, awaiting response... 200 OK\n",
            "Length: 211011981 (201M) [application/x-httpd-php]\n",
            "Saving to: ‘data.txt.zip’\n",
            "\n",
            "data.txt.zip        100%[===================>] 201.24M  38.7MB/s    in 5.7s    \n",
            "\n",
            "2022-10-10 16:38:35 (35.1 MB/s) - ‘data.txt.zip’ saved [211011981/211011981]\n",
            "\n"
          ]
        }
      ],
      "source": [
        "!wget -O data.txt.zip https://archive.ics.uci.edu/ml/machine-learning-databases/00203/YearPredictionMSD.txt.zip"
      ]
    },
    {
      "cell_type": "code",
      "execution_count": 4,
      "metadata": {
        "id": "DSVJZzkJ7zZE",
        "colab": {
          "base_uri": "https://localhost:8080/",
          "height": 297
        },
        "outputId": "0d18cbf0-d997-47ea-d50e-b1f62b1342b6"
      },
      "outputs": [
        {
          "output_type": "execute_result",
          "data": {
            "text/plain": [
              "     0         1         2         3         4         5         6         7   \\\n",
              "0  2001  49.94357  21.47114  73.07750   8.74861 -17.40628 -13.09905 -25.01202   \n",
              "1  2001  48.73215  18.42930  70.32679  12.94636 -10.32437 -24.83777   8.76630   \n",
              "2  2001  50.95714  31.85602  55.81851  13.41693  -6.57898 -18.54940  -3.27872   \n",
              "3  2001  48.24750  -1.89837  36.29772   2.58776   0.97170 -26.21683   5.05097   \n",
              "4  2001  50.97020  42.20998  67.09964   8.46791 -15.85279 -16.81409 -12.48207   \n",
              "\n",
              "         8         9   ...        81         82        83        84        85  \\\n",
              "0 -12.23257   7.83089  ...  13.01620  -54.40548  58.99367  15.37344   1.11144   \n",
              "1  -0.92019  18.76548  ...   5.66812  -19.68073  33.04964  42.87836  -9.90378   \n",
              "2  -2.35035  16.07017  ...   3.03800   26.05866 -50.92779  10.93792  -0.07568   \n",
              "3 -10.34124   3.55005  ...  34.57337 -171.70734 -16.96705 -46.67617 -12.51516   \n",
              "4  -9.37636  12.63699  ...   9.92661  -55.95724  64.92712 -17.72522  -1.49237   \n",
              "\n",
              "         86         87        88         89        90  \n",
              "0 -23.08793   68.40795  -1.82223  -27.46348   2.26327  \n",
              "1 -32.22788   70.49388  12.04941   58.43453  26.92061  \n",
              "2  43.20130 -115.00698  -0.05859   39.67068  -0.66345  \n",
              "3  82.58061  -72.08993   9.90558  199.62971  18.85382  \n",
              "4  -7.50035   51.76631   7.88713   55.66926  28.74903  \n",
              "\n",
              "[5 rows x 91 columns]"
            ],
            "text/html": [
              "\n",
              "  <div id=\"df-331e2766-893e-49b1-93dd-90a0e4a6151d\">\n",
              "    <div class=\"colab-df-container\">\n",
              "      <div>\n",
              "<style scoped>\n",
              "    .dataframe tbody tr th:only-of-type {\n",
              "        vertical-align: middle;\n",
              "    }\n",
              "\n",
              "    .dataframe tbody tr th {\n",
              "        vertical-align: top;\n",
              "    }\n",
              "\n",
              "    .dataframe thead th {\n",
              "        text-align: right;\n",
              "    }\n",
              "</style>\n",
              "<table border=\"1\" class=\"dataframe\">\n",
              "  <thead>\n",
              "    <tr style=\"text-align: right;\">\n",
              "      <th></th>\n",
              "      <th>0</th>\n",
              "      <th>1</th>\n",
              "      <th>2</th>\n",
              "      <th>3</th>\n",
              "      <th>4</th>\n",
              "      <th>5</th>\n",
              "      <th>6</th>\n",
              "      <th>7</th>\n",
              "      <th>8</th>\n",
              "      <th>9</th>\n",
              "      <th>...</th>\n",
              "      <th>81</th>\n",
              "      <th>82</th>\n",
              "      <th>83</th>\n",
              "      <th>84</th>\n",
              "      <th>85</th>\n",
              "      <th>86</th>\n",
              "      <th>87</th>\n",
              "      <th>88</th>\n",
              "      <th>89</th>\n",
              "      <th>90</th>\n",
              "    </tr>\n",
              "  </thead>\n",
              "  <tbody>\n",
              "    <tr>\n",
              "      <th>0</th>\n",
              "      <td>2001</td>\n",
              "      <td>49.94357</td>\n",
              "      <td>21.47114</td>\n",
              "      <td>73.07750</td>\n",
              "      <td>8.74861</td>\n",
              "      <td>-17.40628</td>\n",
              "      <td>-13.09905</td>\n",
              "      <td>-25.01202</td>\n",
              "      <td>-12.23257</td>\n",
              "      <td>7.83089</td>\n",
              "      <td>...</td>\n",
              "      <td>13.01620</td>\n",
              "      <td>-54.40548</td>\n",
              "      <td>58.99367</td>\n",
              "      <td>15.37344</td>\n",
              "      <td>1.11144</td>\n",
              "      <td>-23.08793</td>\n",
              "      <td>68.40795</td>\n",
              "      <td>-1.82223</td>\n",
              "      <td>-27.46348</td>\n",
              "      <td>2.26327</td>\n",
              "    </tr>\n",
              "    <tr>\n",
              "      <th>1</th>\n",
              "      <td>2001</td>\n",
              "      <td>48.73215</td>\n",
              "      <td>18.42930</td>\n",
              "      <td>70.32679</td>\n",
              "      <td>12.94636</td>\n",
              "      <td>-10.32437</td>\n",
              "      <td>-24.83777</td>\n",
              "      <td>8.76630</td>\n",
              "      <td>-0.92019</td>\n",
              "      <td>18.76548</td>\n",
              "      <td>...</td>\n",
              "      <td>5.66812</td>\n",
              "      <td>-19.68073</td>\n",
              "      <td>33.04964</td>\n",
              "      <td>42.87836</td>\n",
              "      <td>-9.90378</td>\n",
              "      <td>-32.22788</td>\n",
              "      <td>70.49388</td>\n",
              "      <td>12.04941</td>\n",
              "      <td>58.43453</td>\n",
              "      <td>26.92061</td>\n",
              "    </tr>\n",
              "    <tr>\n",
              "      <th>2</th>\n",
              "      <td>2001</td>\n",
              "      <td>50.95714</td>\n",
              "      <td>31.85602</td>\n",
              "      <td>55.81851</td>\n",
              "      <td>13.41693</td>\n",
              "      <td>-6.57898</td>\n",
              "      <td>-18.54940</td>\n",
              "      <td>-3.27872</td>\n",
              "      <td>-2.35035</td>\n",
              "      <td>16.07017</td>\n",
              "      <td>...</td>\n",
              "      <td>3.03800</td>\n",
              "      <td>26.05866</td>\n",
              "      <td>-50.92779</td>\n",
              "      <td>10.93792</td>\n",
              "      <td>-0.07568</td>\n",
              "      <td>43.20130</td>\n",
              "      <td>-115.00698</td>\n",
              "      <td>-0.05859</td>\n",
              "      <td>39.67068</td>\n",
              "      <td>-0.66345</td>\n",
              "    </tr>\n",
              "    <tr>\n",
              "      <th>3</th>\n",
              "      <td>2001</td>\n",
              "      <td>48.24750</td>\n",
              "      <td>-1.89837</td>\n",
              "      <td>36.29772</td>\n",
              "      <td>2.58776</td>\n",
              "      <td>0.97170</td>\n",
              "      <td>-26.21683</td>\n",
              "      <td>5.05097</td>\n",
              "      <td>-10.34124</td>\n",
              "      <td>3.55005</td>\n",
              "      <td>...</td>\n",
              "      <td>34.57337</td>\n",
              "      <td>-171.70734</td>\n",
              "      <td>-16.96705</td>\n",
              "      <td>-46.67617</td>\n",
              "      <td>-12.51516</td>\n",
              "      <td>82.58061</td>\n",
              "      <td>-72.08993</td>\n",
              "      <td>9.90558</td>\n",
              "      <td>199.62971</td>\n",
              "      <td>18.85382</td>\n",
              "    </tr>\n",
              "    <tr>\n",
              "      <th>4</th>\n",
              "      <td>2001</td>\n",
              "      <td>50.97020</td>\n",
              "      <td>42.20998</td>\n",
              "      <td>67.09964</td>\n",
              "      <td>8.46791</td>\n",
              "      <td>-15.85279</td>\n",
              "      <td>-16.81409</td>\n",
              "      <td>-12.48207</td>\n",
              "      <td>-9.37636</td>\n",
              "      <td>12.63699</td>\n",
              "      <td>...</td>\n",
              "      <td>9.92661</td>\n",
              "      <td>-55.95724</td>\n",
              "      <td>64.92712</td>\n",
              "      <td>-17.72522</td>\n",
              "      <td>-1.49237</td>\n",
              "      <td>-7.50035</td>\n",
              "      <td>51.76631</td>\n",
              "      <td>7.88713</td>\n",
              "      <td>55.66926</td>\n",
              "      <td>28.74903</td>\n",
              "    </tr>\n",
              "  </tbody>\n",
              "</table>\n",
              "<p>5 rows × 91 columns</p>\n",
              "</div>\n",
              "      <button class=\"colab-df-convert\" onclick=\"convertToInteractive('df-331e2766-893e-49b1-93dd-90a0e4a6151d')\"\n",
              "              title=\"Convert this dataframe to an interactive table.\"\n",
              "              style=\"display:none;\">\n",
              "        \n",
              "  <svg xmlns=\"http://www.w3.org/2000/svg\" height=\"24px\"viewBox=\"0 0 24 24\"\n",
              "       width=\"24px\">\n",
              "    <path d=\"M0 0h24v24H0V0z\" fill=\"none\"/>\n",
              "    <path d=\"M18.56 5.44l.94 2.06.94-2.06 2.06-.94-2.06-.94-.94-2.06-.94 2.06-2.06.94zm-11 1L8.5 8.5l.94-2.06 2.06-.94-2.06-.94L8.5 2.5l-.94 2.06-2.06.94zm10 10l.94 2.06.94-2.06 2.06-.94-2.06-.94-.94-2.06-.94 2.06-2.06.94z\"/><path d=\"M17.41 7.96l-1.37-1.37c-.4-.4-.92-.59-1.43-.59-.52 0-1.04.2-1.43.59L10.3 9.45l-7.72 7.72c-.78.78-.78 2.05 0 2.83L4 21.41c.39.39.9.59 1.41.59.51 0 1.02-.2 1.41-.59l7.78-7.78 2.81-2.81c.8-.78.8-2.07 0-2.86zM5.41 20L4 18.59l7.72-7.72 1.47 1.35L5.41 20z\"/>\n",
              "  </svg>\n",
              "      </button>\n",
              "      \n",
              "  <style>\n",
              "    .colab-df-container {\n",
              "      display:flex;\n",
              "      flex-wrap:wrap;\n",
              "      gap: 12px;\n",
              "    }\n",
              "\n",
              "    .colab-df-convert {\n",
              "      background-color: #E8F0FE;\n",
              "      border: none;\n",
              "      border-radius: 50%;\n",
              "      cursor: pointer;\n",
              "      display: none;\n",
              "      fill: #1967D2;\n",
              "      height: 32px;\n",
              "      padding: 0 0 0 0;\n",
              "      width: 32px;\n",
              "    }\n",
              "\n",
              "    .colab-df-convert:hover {\n",
              "      background-color: #E2EBFA;\n",
              "      box-shadow: 0px 1px 2px rgba(60, 64, 67, 0.3), 0px 1px 3px 1px rgba(60, 64, 67, 0.15);\n",
              "      fill: #174EA6;\n",
              "    }\n",
              "\n",
              "    [theme=dark] .colab-df-convert {\n",
              "      background-color: #3B4455;\n",
              "      fill: #D2E3FC;\n",
              "    }\n",
              "\n",
              "    [theme=dark] .colab-df-convert:hover {\n",
              "      background-color: #434B5C;\n",
              "      box-shadow: 0px 1px 3px 1px rgba(0, 0, 0, 0.15);\n",
              "      filter: drop-shadow(0px 1px 2px rgba(0, 0, 0, 0.3));\n",
              "      fill: #FFFFFF;\n",
              "    }\n",
              "  </style>\n",
              "\n",
              "      <script>\n",
              "        const buttonEl =\n",
              "          document.querySelector('#df-331e2766-893e-49b1-93dd-90a0e4a6151d button.colab-df-convert');\n",
              "        buttonEl.style.display =\n",
              "          google.colab.kernel.accessAllowed ? 'block' : 'none';\n",
              "\n",
              "        async function convertToInteractive(key) {\n",
              "          const element = document.querySelector('#df-331e2766-893e-49b1-93dd-90a0e4a6151d');\n",
              "          const dataTable =\n",
              "            await google.colab.kernel.invokeFunction('convertToInteractive',\n",
              "                                                     [key], {});\n",
              "          if (!dataTable) return;\n",
              "\n",
              "          const docLinkHtml = 'Like what you see? Visit the ' +\n",
              "            '<a target=\"_blank\" href=https://colab.research.google.com/notebooks/data_table.ipynb>data table notebook</a>'\n",
              "            + ' to learn more about interactive tables.';\n",
              "          element.innerHTML = '';\n",
              "          dataTable['output_type'] = 'display_data';\n",
              "          await google.colab.output.renderOutput(dataTable, element);\n",
              "          const docLink = document.createElement('div');\n",
              "          docLink.innerHTML = docLinkHtml;\n",
              "          element.appendChild(docLink);\n",
              "        }\n",
              "      </script>\n",
              "    </div>\n",
              "  </div>\n",
              "  "
            ]
          },
          "metadata": {},
          "execution_count": 4
        }
      ],
      "source": [
        "df = pd.read_csv('data.txt.zip', header=None)\n",
        "df.head()"
      ]
    },
    {
      "cell_type": "code",
      "execution_count": 18,
      "metadata": {
        "id": "n4wnRJT1778j"
      },
      "outputs": [],
      "source": [
        "X = df.iloc[:, 1:].values\n",
        "y = df.iloc[:, 0].values\n",
        "\n",
        "train_size = 463715\n",
        "X_train = X[:train_size, :]\n",
        "y_train = y[:train_size]\n",
        "X_test = X[train_size:, :]\n",
        "y_test = y[train_size:]"
      ]
    },
    {
      "cell_type": "markdown",
      "metadata": {
        "id": "_386JE_o5gOd"
      },
      "source": [
        "## Задание 0. (0 баллов, но при невыполнении максимум за все задание &mdash; 0 баллов)\n",
        "\n",
        "Мы будем использовать RMSE как метрику качества. Для самого первого бейзлайна обучите `Ridge` регрессию из `sklearn`. Кроме того, посчитайте качество при наилучшем константном прогнозе."
      ]
    },
    {
      "cell_type": "code",
      "source": [
        "#Столбец единичных признаков, для константного предикта\n",
        "\n",
        "X_ones_train = np.ones(y_train.shape[0]).reshape(-1, 1)\n",
        "X_ones_test = np.ones(y_test.shape[0]).reshape(-1, 1)"
      ],
      "metadata": {
        "id": "MBhr04QHjQau"
      },
      "execution_count": 6,
      "outputs": []
    },
    {
      "cell_type": "code",
      "execution_count": 7,
      "metadata": {
        "id": "otwuisa56MLr",
        "colab": {
          "base_uri": "https://localhost:8080/"
        },
        "outputId": "5f849207-8d2e-45f4-d751-8f0822dfb02c"
      },
      "outputs": [
        {
          "output_type": "stream",
          "name": "stdout",
          "text": [
            "RMSE = 10.85246390513634\n"
          ]
        }
      ],
      "source": [
        "from sklearn.metrics import mean_squared_error as mse\n",
        "from sklearn.linear_model import Ridge\n",
        "\n",
        "rgr = Ridge()\n",
        "rgr.fit(X_ones_train, y_train)\n",
        "const = rgr.predict(X_ones_test)\n",
        "y_base = rgr.fit(X_train, y_train).predict(X_test)\n",
        "\n",
        "print('RMSE = {}'.format(mse(const, y_test, squared=False)))"
      ]
    },
    {
      "cell_type": "markdown",
      "metadata": {
        "id": "_6ilBKYt6OdD"
      },
      "source": [
        "## Задание 1. (максимум 10 баллов)\n",
        "\n",
        "Реализуйте обучение и тестирование нейронной сети для предоставленного вам набора данных. Соотношение между полученным значением метрики на тестовой выборке и баллами за задание следующее:\n",
        "\n",
        "- $\\text{RMSE} \\le 9.00 $ &mdash; 4 балла\n",
        "- $\\text{RMSE} \\le 8.90 $ &mdash; 6 баллов\n",
        "- $\\text{RMSE} \\le 8.80 $ &mdash; 8 баллов\n",
        "- $\\text{RMSE} \\le 8.75 $ &mdash; 10 баллов\n",
        "\n",
        "\n"
      ]
    },
    {
      "cell_type": "code",
      "execution_count": 8,
      "metadata": {
        "id": "VaMButDmEKKw"
      },
      "outputs": [],
      "source": [
        "def set_random_seed(seed):\n",
        "    torch.backends.cudnn.deterministic = True\n",
        "    torch.manual_seed(seed)\n",
        "    torch.cuda.manual_seed(seed)\n",
        "    np.random.seed(seed)\n",
        "    random.seed(seed)"
      ]
    },
    {
      "cell_type": "code",
      "source": [
        "class Data_set(torch.utils.data.Dataset):   \n",
        "    def __init__(self, x, y):\n",
        "        self.x=x\n",
        "        self.y=y\n",
        "        \n",
        "    def __len__(self):\n",
        "        return len(self.x)\n",
        "    \n",
        "    def __getitem__(self, idx):\n",
        "        return torch.tensor(self.x[idx, :], dtype=torch.float), self.y[idx]"
      ],
      "metadata": {
        "id": "yQ4OVOAHpVwP"
      },
      "execution_count": 9,
      "outputs": []
    },
    {
      "cell_type": "markdown",
      "metadata": {
        "id": "TZW0gMe3vT8u"
      },
      "source": [
        "Вы можете придерживаться любой адекватной струкуры кода, но мы советуем воспользоваться следующими сигнатурами функций. Лучше всего, если вы проверите ваши предсказания ассертом: так вы убережете себя от разных косяков, например, что вектор предсказаний состоит из всего одного числа. В любом случае, внимательно следите за тем, для каких тензоров вы считаете метрику RMSE. При случайном или намеренном введении в заблуждение проверяющие очень сильно разозлятся."
      ]
    },
    {
      "cell_type": "code",
      "execution_count": 26,
      "metadata": {
        "id": "8Wmxrf5Qveux"
      },
      "outputs": [],
      "source": [
        "def epoch(model, optimizer, criterion, train_loader, test_loader):\n",
        "\n",
        "    '''\n",
        "    params:\n",
        "        model - torch.nn.Module to be fitted\n",
        "        optimizer - model optimizer\n",
        "        criterion - loss function from torch.nn\n",
        "        train_loader - torch.utils.data.Dataloader with train set\n",
        "        test_loader - torch.utils.data.Dataloader with test set\n",
        "                      (if you wish to validate during training)\n",
        "    '''\n",
        "\n",
        "    for epoch in range(1):                               \n",
        "        for x_train, y_train in train_loader:      \n",
        "            y_pred = model(x_train).squeeze(1)       \n",
        "            loss = criterion(y_pred, y_train.to(torch.float32))                   \n",
        "            loss.backward()                        \n",
        "            optimizer.step()                             \n",
        "            optimizer.zero_grad()      \n",
        "\n",
        "\n",
        "def test(model, criterion, test_loader):\n",
        "\n",
        "    '''\n",
        "    params:\n",
        "        model - torch.nn.Module to be evaluated on test set\n",
        "        criterion - loss function from torch.nn\n",
        "        test_loader - torch.utils.data.Dataloader with test set\n",
        "    ----------\n",
        "    returns:\n",
        "        predicts - torch.tensor with shape (len(test_loader.dataset), ),\n",
        "                   which contains predictions for test objects\n",
        "    '''\n",
        "\n",
        "    y_pred = []\n",
        "    with torch.no_grad():\n",
        "        for x_t, y_t in test_loader:\n",
        "            y_p = model(x_t).squeeze(1) \n",
        "            y_pred.extend(y_p)\n",
        "\n",
        "    return torch.tensor(y_pred)\n",
        "\n",
        "\n",
        "def train(num_epoch, model, optimizer, criterion, train_loader, test_loader, GRAPH = False):\n",
        "    '''\n",
        "    params:\n",
        "        num_epoch - num of epoch\n",
        "        model - torch.nn.Module to be evaluated on test set\n",
        "        criterion - loss function from torch.nn\n",
        "        test_loader - torch.utils.data.Dataloader with test set\n",
        "        GRAPH - if True, graph will be plotted, defalte = False\n",
        "    ----------\n",
        "    returns:\n",
        "        predicts - torch.tensor with shape (len(test_loader.dataset), ),\n",
        "                   which contains predictions for test objects\n",
        "    '''\n",
        "    \n",
        "    err_dat_test = np.empty(num_epoch)\n",
        "    #err_dat_train = np.empty(num_epoch)\n",
        "\n",
        "    for ep in range(num_epoch):\n",
        "        epoch(model, optimizer, criterion, train_loader, test_loader)\n",
        "        y_predict_test = test(model, criterion, test_loader)\n",
        "        err = mse(y_predict_test*y_train_std + y_train_mean, y_test*y_train_std + y_train_mean, squared=False)\n",
        "        err_dat_test[ep] = err\n",
        "        # y_predict_train = test(model, criterion, train_loader)\n",
        "        # err = mse(y_predict_train*y_train_std + y_train_mean, y_train*y_train_std + y_train_mean, squared=False)\n",
        "        # err_dat_train[ep] = err\n",
        "        if GRAPH:\n",
        "            if ep == 0:\n",
        "                continue\n",
        "            \n",
        "            min_ = np.argmin(err_dat_test[:ep+1])\n",
        "\n",
        "            clear_output(True)\n",
        "            plt.figure(figsize=(11,6))\n",
        "\n",
        "            plt.plot(np.array(range(ep+1))+1, err_dat_test[:ep+1], 'v', c='brown', ms=15, label='NN loss by epoch')\n",
        "            # plt.plot(np.array(range(ep+1))+1, err_dat_train[:ep+1], 'v', c='darkgreen', ms=15)\n",
        "\n",
        "            plt.plot([1, ep+1], [err_dat_test[min_], err_dat_test[min_]], '--', c='darkgray', lw=5) \n",
        "\n",
        "            plt.plot([1, ep+1], [9.0, 9.0], '--', c='red', lw=5, label='4') \n",
        "            plt.plot([1, ep+1], [8.9, 8.9], '--', c='orange', lw=5, label='6')\n",
        "            plt.plot([1, ep+1], [8.8, 8.8], '--', c='green', lw=5, label='8') \n",
        "            plt.plot([min_+1],[err_dat_test[min_]], 'v', c='red', ms=19)\n",
        "\n",
        "            plt.xlabel('Number of Epoch')\n",
        "            plt.ylabel('RMSE loss')\n",
        "            plt.legend()\n",
        "\n",
        "            plt.show()\n",
        "\n",
        "            print(('Best quality on Epoch {}, RMSE = {:.2f}'.format(min_+1 ,err_dat_test[min_])))\n",
        "\n",
        "        #print('Epoch {}, RMSE = {}'.format(ep+1 ,err))"
      ]
    },
    {
      "cell_type": "code",
      "source": [
        "#### 0 #### 300\n",
        "train_set = Data_set(X_train, y_train)\n",
        "train_loader = torch.utils.data.DataLoader(train_set, batch_size=16)\n",
        "\n",
        "test_set = Data_set(X_test, y_test)\n",
        "test_loader = torch.utils.data.DataLoader(test_set, batch_size=16)\n",
        "\n",
        "model0 = nn.Sequential(\n",
        "    nn.Linear(90, 1)  \n",
        "\n",
        ")\n",
        "optimizer = torch.optim.SGD(model0.parameters(), lr= 5e-9)\n",
        "criterion = nn.MSELoss()"
      ],
      "metadata": {
        "id": "ezIvHnjZ6sFc"
      },
      "execution_count": 11,
      "outputs": []
    },
    {
      "cell_type": "code",
      "execution_count": 12,
      "metadata": {
        "id": "4PVEXDgD6Swj"
      },
      "outputs": [],
      "source": [
        "assert test(model0, criterion, test_loader).shape[0] == y_test.shape[0]"
      ]
    },
    {
      "cell_type": "markdown",
      "source": [
        "## Эксперимент 0\n",
        "# Линейная модель без предобработки\n",
        "Очень плохо"
      ],
      "metadata": {
        "id": "jJYFW7vAaYfB"
      }
    },
    {
      "cell_type": "code",
      "execution_count": 27,
      "metadata": {
        "id": "peomNjMWbkSz",
        "colab": {
          "base_uri": "https://localhost:8080/",
          "height": 405
        },
        "outputId": "92090d80-29b7-42b3-cc66-2fc23fcdc45a"
      },
      "outputs": [
        {
          "output_type": "display_data",
          "data": {
            "text/plain": [
              "<Figure size 792x432 with 1 Axes>"
            ],
            "image/png": "[encoded data removed]"
          },
          "metadata": {
            "needs_background": "light"
          }
        },
        {
          "output_type": "stream",
          "name": "stdout",
          "text": [
            "Best quality on Epoch 10, RMSE = 283.33\n"
          ]
        }
      ],
      "source": [
        "#### 0 #### 300\n",
        "train_set = Data_set(X_train, y_train)\n",
        "train_loader = torch.utils.data.DataLoader(train_set, batch_size=16)\n",
        "\n",
        "test_set = Data_set(X_test, y_test)\n",
        "test_loader = torch.utils.data.DataLoader(test_set, batch_size=16)\n",
        "\n",
        "model0 = nn.Sequential(\n",
        "    nn.Linear(90, 1)  \n",
        "\n",
        ")\n",
        "optimizer = torch.optim.SGD(model0.parameters(), lr= 5e-9)\n",
        "criterion = nn.MSELoss()\n",
        "\n",
        "y_train_mean = 0.0\n",
        "y_train_std = 1.0\n",
        "\n",
        "y_train = (y_train - y_train_mean)/y_train_std\n",
        "y_test = (y_test - y_train_mean)/y_train_std\n",
        "\n",
        "train(10, model0, optimizer, criterion, train_loader, test_loader, GRAPH = True)"
      ]
    },
    {
      "cell_type": "markdown",
      "source": [
        "## Обработаем признаки и таргет."
      ],
      "metadata": {
        "id": "ZR_bRA0phf__"
      }
    },
    {
      "cell_type": "code",
      "source": [
        "from sklearn.preprocessing import StandardScaler\n",
        "\n",
        "X_train = StandardScaler().fit_transform(X_train)\n",
        "X_test = StandardScaler().fit_transform(X_test)\n"
      ],
      "metadata": {
        "id": "CSW2wejokdoN"
      },
      "execution_count": 28,
      "outputs": []
    },
    {
      "cell_type": "code",
      "source": [
        "y_train_mean = np.mean(y_train)\n",
        "y_train_std = np.std(y_train)\n",
        "\n",
        "y_train = (y_train - y_train_mean)/y_train_std\n",
        "y_test = (y_test - y_train_mean)/y_train_std"
      ],
      "metadata": {
        "id": "UQAJyKkofJrc"
      },
      "execution_count": 29,
      "outputs": []
    },
    {
      "cell_type": "code",
      "source": [
        "#### 1 #### 12\n",
        "\n",
        "train_set = Data_set(X_train, y_train)\n",
        "train_loader = torch.utils.data.DataLoader(train_set, batch_size=16)\n",
        "\n",
        "test_set = Data_set(X_test, y_test)\n",
        "test_loader = torch.utils.data.DataLoader(test_set, batch_size=16)\n",
        "\n",
        "model1 = nn.Sequential(\n",
        "    nn.Linear(90, 1)  \n",
        "\n",
        ")\n",
        "optimizer = torch.optim.SGD(model1.parameters(), lr= 0.0005)\n",
        "criterion = nn.MSELoss()\n",
        "\n",
        "train(10, model1, optimizer, criterion, train_loader, test_loader, GRAPH = True)"
      ],
      "metadata": {
        "colab": {
          "base_uri": "https://localhost:8080/",
          "height": 405
        },
        "id": "nAW1WpWmhwVt",
        "outputId": "6d8c1f3e-a211-414a-9141-f39aedacacb8"
      },
      "execution_count": 32,
      "outputs": [
        {
          "output_type": "display_data",
          "data": {
            "text/plain": [
              "<Figure size 792x432 with 1 Axes>"
            ],
            "image/png": "[encoded data removed]"
          },
          "metadata": {
            "needs_background": "light"
          }
        },
        {
          "output_type": "stream",
          "name": "stdout",
          "text": [
            "Best quality on Epoch 2, RMSE = 9.56\n"
          ]
        }
      ]
    },
    {
      "cell_type": "markdown",
      "source": [
        "Чуть лучше, чем просто константный прогноз."
      ],
      "metadata": {
        "id": "T4Qy6859iLvF"
      }
    },
    {
      "cell_type": "markdown",
      "source": [
        "## Эксперимент 1\n",
        "# Двигаем архитектуру\n",
        "Добавляем нелинейность \\\n",
        "Уже лучше"
      ],
      "metadata": {
        "id": "pZ_zyaBVd4OF"
      }
    },
    {
      "cell_type": "markdown",
      "source": [
        "## +1 слой"
      ],
      "metadata": {
        "id": "Ox9l7sq24mw0"
      }
    },
    {
      "cell_type": "code",
      "source": [
        "#### 2 #### 9\n",
        "model2 = nn.Sequential(\n",
        "    nn.Linear(90, 10),\n",
        "    nn.ReLU(),\n",
        "    nn.Linear(10, 1)  \n",
        "\n",
        ")\n",
        "optimizer = torch.optim.SGD(model2.parameters(), lr= 0.005)\n",
        "criterion = nn.MSELoss()\n",
        "\n",
        "train(10, model2, optimizer, criterion, train_loader, test_loader, GRAPH = True)"
      ],
      "metadata": {
        "id": "chKZI6-nfQLe",
        "colab": {
          "base_uri": "https://localhost:8080/",
          "height": 405
        },
        "outputId": "10a8e22f-ed67-49f5-87ae-b58080ef8cd0"
      },
      "execution_count": 34,
      "outputs": [
        {
          "output_type": "display_data",
          "data": {
            "text/plain": [
              "<Figure size 792x432 with 1 Axes>"
            ],
            "image/png": "[encoded data removed]"
          },
          "metadata": {
            "needs_background": "light"
          }
        },
        {
          "output_type": "stream",
          "name": "stdout",
          "text": [
            "Best quality on Epoch 6, RMSE = 9.11\n"
          ]
        }
      ]
    },
    {
      "cell_type": "markdown",
      "source": [
        "Лучше чем константа!"
      ],
      "metadata": {
        "id": "iF_b8GzMjZbi"
      }
    },
    {
      "cell_type": "markdown",
      "source": [
        "## Добавим еще слой + оптимизатор"
      ],
      "metadata": {
        "id": "7pCW_MFHjqe7"
      }
    },
    {
      "cell_type": "code",
      "source": [
        "#### 3 #### 8.91\n",
        "model3 = nn.Sequential(\n",
        "    nn.Linear(90, 30),   \n",
        "    nn.ReLU(),          \n",
        "    nn.Linear(30, 10),\n",
        "    nn.ReLU(),          \n",
        "    nn.Linear(10, 1)\n",
        ")\n",
        "optimizer = torch.optim.SGD(model3.parameters(), lr= 0.0005)\n",
        "criterion = nn.MSELoss()\n",
        "\n",
        "train(15, model3, optimizer, criterion, train_loader, test_loader, GRAPH = True)"
      ],
      "metadata": {
        "id": "lFLlFOw_tHtl",
        "colab": {
          "base_uri": "https://localhost:8080/",
          "height": 405
        },
        "outputId": "cf3c5c8c-f37b-4aa2-bcb3-c50f520e7a14"
      },
      "execution_count": 37,
      "outputs": [
        {
          "output_type": "display_data",
          "data": {
            "text/plain": [
              "<Figure size 792x432 with 1 Axes>"
            ],
            "image/png": "[encoded data removed]"
          },
          "metadata": {
            "needs_background": "light"
          }
        },
        {
          "output_type": "stream",
          "name": "stdout",
          "text": [
            "Best quality on Epoch 15, RMSE = 8.89\n"
          ]
        }
      ]
    },
    {
      "cell_type": "markdown",
      "source": [
        "Попробуем другой оптимозатор."
      ],
      "metadata": {
        "id": "sZ6TKb41lrKY"
      }
    },
    {
      "cell_type": "markdown",
      "source": [
        "## Итог график"
      ],
      "metadata": {
        "id": "33WoTlTk45KJ"
      }
    },
    {
      "cell_type": "code",
      "source": [
        "#### 4 #### 8.87\n",
        "model4 = nn.Sequential(\n",
        "    nn.Linear(90, 30),  \n",
        "    nn.ReLU(),         \n",
        "    nn.Linear(30, 10),\n",
        "    nn.ReLU(),       \n",
        "    nn.Linear(10, 1)\n",
        ")\n",
        "optimizer = torch.optim.Adam(model4.parameters(), lr= 0.0005)\n",
        "criterion = nn.MSELoss()\n",
        "\n",
        "train(15, model4, optimizer, criterion, train_loader, test_loader, GRAPH = True)"
      ],
      "metadata": {
        "id": "6zda1yFotlzk",
        "colab": {
          "base_uri": "https://localhost:8080/",
          "height": 405
        },
        "outputId": "462a3516-7809-492d-df9a-4ba05712ee35"
      },
      "execution_count": 36,
      "outputs": [
        {
          "output_type": "display_data",
          "data": {
            "text/plain": [
              "<Figure size 792x432 with 1 Axes>"
            ],
            "image/png": "[encoded data removed]"
          },
          "metadata": {
            "needs_background": "light"
          }
        },
        {
          "output_type": "stream",
          "name": "stdout",
          "text": [
            "Best quality on Epoch 14, RMSE = 8.89\n"
          ]
        }
      ]
    },
    {
      "cell_type": "markdown",
      "source": [
        "## Эксперимент 2\n",
        "# Подберем гиперпараметры\n",
        "\n",
        "Подвигаем размер батча:"
      ],
      "metadata": {
        "id": "P6yzNbEHp8uD"
      }
    },
    {
      "cell_type": "markdown",
      "source": [
        "## Графики"
      ],
      "metadata": {
        "id": "B5VvyiqP-0GB"
      }
    },
    {
      "cell_type": "code",
      "source": [
        "#### 4 #### 8.87\n",
        "\n",
        "train_set = Data_set(X_train, y_train)\n",
        "train_loader = torch.utils.data.DataLoader(train_set, batch_size=8)\n",
        "\n",
        "test_set = Data_set(X_test, y_test)\n",
        "test_loader = torch.utils.data.DataLoader(test_set, batch_size=8)\n",
        "\n",
        "model4 = nn.Sequential(\n",
        "    nn.Linear(90, 30),  \n",
        "    nn.ReLU(),         \n",
        "    nn.Linear(30, 10),\n",
        "    nn.ReLU(),       \n",
        "    nn.Linear(10, 1)\n",
        ")\n",
        "optimizer = torch.optim.Adam(model4.parameters(), lr= 0.0005)\n",
        "criterion = nn.MSELoss()\n",
        "\n",
        "train(11, model4, optimizer, criterion, train_loader, test_loader, GRAPH = True)"
      ],
      "metadata": {
        "colab": {
          "base_uri": "https://localhost:8080/",
          "height": 405
        },
        "id": "5fFSt7utp2Br",
        "outputId": "3982457b-461c-4609-8b39-541309a85f97"
      },
      "execution_count": 38,
      "outputs": [
        {
          "output_type": "display_data",
          "data": {
            "text/plain": [
              "<Figure size 792x432 with 1 Axes>"
            ],
            "image/png": "[encoded data removed]"
          },
          "metadata": {
            "needs_background": "light"
          }
        },
        {
          "output_type": "stream",
          "name": "stdout",
          "text": [
            "Best quality on Epoch 11, RMSE = 8.91\n"
          ]
        }
      ]
    },
    {
      "cell_type": "code",
      "source": [
        "#### 4 #### 8.87\n",
        "\n",
        "train_set = Data_set(X_train, y_train)\n",
        "train_loader = torch.utils.data.DataLoader(train_set, batch_size=32)\n",
        "\n",
        "test_set = Data_set(X_test, y_test)\n",
        "test_loader = torch.utils.data.DataLoader(test_set, batch_size=32)\n",
        "\n",
        "model4 = nn.Sequential(\n",
        "    nn.Linear(90, 30),  \n",
        "    nn.ReLU(),         \n",
        "    nn.Linear(30, 10),\n",
        "    nn.ReLU(),       \n",
        "    nn.Linear(10, 1)\n",
        ")\n",
        "optimizer = torch.optim.Adam(model4.parameters(), lr= 0.0005)\n",
        "criterion = nn.MSELoss()\n",
        "\n",
        "train(20, model4, optimizer, criterion, train_loader, test_loader, GRAPH = True)"
      ],
      "metadata": {
        "colab": {
          "base_uri": "https://localhost:8080/",
          "height": 405
        },
        "id": "4nPBZ4gXqMVx",
        "outputId": "cec0fd9b-6d26-4fa4-f6e3-c70e37df8851"
      },
      "execution_count": 39,
      "outputs": [
        {
          "output_type": "display_data",
          "data": {
            "text/plain": [
              "<Figure size 792x432 with 1 Axes>"
            ],
            "image/png": "[encoded data removed]"
          },
          "metadata": {
            "needs_background": "light"
          }
        },
        {
          "output_type": "stream",
          "name": "stdout",
          "text": [
            "Best quality on Epoch 13, RMSE = 8.88\n"
          ]
        }
      ]
    },
    {
      "cell_type": "code",
      "source": [
        "#### 4 #### 8.87\n",
        "\n",
        "train_set = Data_set(X_train, y_train)\n",
        "train_loader = torch.utils.data.DataLoader(train_set, batch_size=64)\n",
        "\n",
        "test_set = Data_set(X_test, y_test)\n",
        "test_loader = torch.utils.data.DataLoader(test_set, batch_size=64)\n",
        "\n",
        "model5 = nn.Sequential(\n",
        "    nn.Linear(90, 30),  \n",
        "    nn.ReLU(),         \n",
        "    nn.Linear(30, 10),\n",
        "    nn.ReLU(),       \n",
        "    nn.Linear(10, 1)\n",
        ")\n",
        "optimizer = torch.optim.Adam(model5.parameters(), lr= 0.0005)\n",
        "criterion = nn.MSELoss()\n",
        "\n",
        "train(20, model5, optimizer, criterion, train_loader, test_loader, GRAPH = True)"
      ],
      "metadata": {
        "colab": {
          "base_uri": "https://localhost:8080/",
          "height": 405
        },
        "id": "kmoIcBSLw1FW",
        "outputId": "55c21019-cee1-4f6f-e25f-98ea8f2edfd2"
      },
      "execution_count": 40,
      "outputs": [
        {
          "output_type": "display_data",
          "data": {
            "text/plain": [
              "<Figure size 792x432 with 1 Axes>"
            ],
            "image/png": "[encoded data removed]"
          },
          "metadata": {
            "needs_background": "light"
          }
        },
        {
          "output_type": "stream",
          "name": "stdout",
          "text": [
            "Best quality on Epoch 20, RMSE = 8.86\n"
          ]
        }
      ]
    },
    {
      "cell_type": "markdown",
      "source": [
        "## Лучший результат:"
      ],
      "metadata": {
        "id": "vHiKjU5e-qL8"
      }
    },
    {
      "cell_type": "code",
      "source": [
        "#### 7 #### 8.86\n",
        "\n",
        "set_random_seed(23)\n",
        "\n",
        "train_set = Data_set(X_train, y_train)\n",
        "train_loader = torch.utils.data.DataLoader(train_set, batch_size=128)\n",
        "\n",
        "test_set = Data_set(X_test, y_test)\n",
        "test_loader = torch.utils.data.DataLoader(test_set, batch_size=128)\n",
        "\n",
        "model6 = nn.Sequential(\n",
        "    nn.Linear(90, 30),  \n",
        "    nn.ReLU(),         \n",
        "    nn.Linear(30, 10),\n",
        "    nn.ReLU(),       \n",
        "    nn.Linear(10, 1)\n",
        ")\n",
        "optimizer = torch.optim.Adam(model6.parameters(), lr= 0.0005)\n",
        "criterion = nn.MSELoss()\n",
        "\n",
        "train(33, model6, optimizer, criterion, train_loader, test_loader, GRAPH = True)"
      ],
      "metadata": {
        "colab": {
          "base_uri": "https://localhost:8080/",
          "height": 405
        },
        "id": "DMA1sVrWzHFb",
        "outputId": "3b0862d2-12d8-4253-b7b8-a06b1e436e68"
      },
      "execution_count": 41,
      "outputs": [
        {
          "output_type": "display_data",
          "data": {
            "text/plain": [
              "<Figure size 792x432 with 1 Axes>"
            ],
            "image/png": "[encoded data removed]"
          },
          "metadata": {
            "needs_background": "light"
          }
        },
        {
          "output_type": "stream",
          "name": "stdout",
          "text": [
            "Best quality on Epoch 32, RMSE = 8.83\n"
          ]
        }
      ]
    },
    {
      "cell_type": "markdown",
      "source": [
        "При большем размере батча сильнее переобучается."
      ],
      "metadata": {
        "id": "7N0_SO4fEXNF"
      }
    },
    {
      "cell_type": "markdown",
      "source": [
        "## Снова подвигаем архитектуру.\n",
        "Вторая эпоха"
      ],
      "metadata": {
        "id": "qGtyEQj0FUyP"
      }
    },
    {
      "cell_type": "code",
      "source": [
        "#### 7 #### 8.86\n",
        "\n",
        "set_random_seed(23)\n",
        "\n",
        "train_set = Data_set(X_train, y_train)\n",
        "train_loader = torch.utils.data.DataLoader(train_set, batch_size=128)\n",
        "\n",
        "test_set = Data_set(X_test, y_test)\n",
        "test_loader = torch.utils.data.DataLoader(test_set, batch_size=128)\n",
        "\n",
        "model7 = nn.Sequential(\n",
        "    nn.Linear(90, 65),  \n",
        "    nn.ReLU(),         \n",
        "    nn.Linear(65, 30),\n",
        "    nn.ReLU(),       \n",
        "    nn.Linear(30, 1)\n",
        ")\n",
        "optimizer = torch.optim.Adam(model7.parameters(), lr= 0.0002)\n",
        "criterion = nn.MSELoss()\n",
        "\n",
        "train(35, model7, optimizer, criterion, train_loader, test_loader, GRAPH = True)"
      ],
      "metadata": {
        "colab": {
          "base_uri": "https://localhost:8080/",
          "height": 405
        },
        "id": "Zw39MLog0Zkk",
        "outputId": "91b846c1-3637-4c7b-e0da-0ca886858a89"
      },
      "execution_count": 42,
      "outputs": [
        {
          "output_type": "display_data",
          "data": {
            "text/plain": [
              "<Figure size 792x432 with 1 Axes>"
            ],
            "image/png": "[encoded data removed]"
          },
          "metadata": {
            "needs_background": "light"
          }
        },
        {
          "output_type": "stream",
          "name": "stdout",
          "text": [
            "Best quality on Epoch 32, RMSE = 8.83\n"
          ]
        }
      ]
    },
    {
      "cell_type": "code",
      "source": [
        "#### 7 #### 8.86\n",
        "\n",
        "set_random_seed(23)\n",
        "\n",
        "train_set = Data_set(X_train, y_train)\n",
        "train_loader = torch.utils.data.DataLoader(train_set, batch_size=128)\n",
        "\n",
        "test_set = Data_set(X_test, y_test)\n",
        "test_loader = torch.utils.data.DataLoader(test_set, batch_size=128)\n",
        "\n",
        "model7 = nn.Sequential(\n",
        "    nn.Linear(90, 65),  \n",
        "    nn.ReLU(),         \n",
        "    nn.Linear(65, 20),\n",
        "    nn.ReLU(),       \n",
        "    nn.Linear(20, 1)\n",
        ")\n",
        "optimizer = torch.optim.Adam(model7.parameters(), lr= 0.0002)\n",
        "criterion = nn.MSELoss()\n",
        "\n",
        "train(35, model7, optimizer, criterion, train_loader, test_loader, GRAPH = True)"
      ],
      "metadata": {
        "colab": {
          "base_uri": "https://localhost:8080/",
          "height": 405
        },
        "id": "Uy0C3ySsOZZ_",
        "outputId": "ff4e92d2-017a-43a7-b95c-5e75c69455da"
      },
      "execution_count": 43,
      "outputs": [
        {
          "output_type": "display_data",
          "data": {
            "text/plain": [
              "<Figure size 792x432 with 1 Axes>"
            ],
            "image/png": "[encoded data removed]"
          },
          "metadata": {
            "needs_background": "light"
          }
        },
        {
          "output_type": "stream",
          "name": "stdout",
          "text": [
            "Best quality on Epoch 30, RMSE = 8.82\n"
          ]
        }
      ]
    },
    {
      "cell_type": "markdown",
      "source": [
        "## Добавим слой"
      ],
      "metadata": {
        "id": "BTJkEP2rHJCJ"
      }
    },
    {
      "cell_type": "code",
      "source": [
        "#### 7 #### 8.86\n",
        "\n",
        "set_random_seed(23)\n",
        "\n",
        "train_set = Data_set(X_train, y_train)\n",
        "train_loader = torch.utils.data.DataLoader(train_set, batch_size=128)\n",
        "\n",
        "test_set = Data_set(X_test, y_test)\n",
        "test_loader = torch.utils.data.DataLoader(test_set, batch_size=128)\n",
        "\n",
        "model7 = nn.Sequential(\n",
        "    nn.Linear(90, 65),  \n",
        "    nn.ReLU(),         \n",
        "    nn.Linear(65, 30),\n",
        "    nn.ReLU(),       \n",
        "    nn.Linear(30, 5),\n",
        "    nn.ReLU(),\n",
        "    nn.Linear(5, 1)\n",
        ")\n",
        "optimizer = torch.optim.Adam(model7.parameters(), lr= 0.0002)\n",
        "criterion = nn.MSELoss()\n",
        "\n",
        "train(35, model7, optimizer, criterion, train_loader, test_loader, GRAPH = True)"
      ],
      "metadata": {
        "colab": {
          "base_uri": "https://localhost:8080/",
          "height": 405
        },
        "id": "80MOIbP7Proz",
        "outputId": "54931654-3ea7-4606-f948-334f896e793b"
      },
      "execution_count": 44,
      "outputs": [
        {
          "output_type": "display_data",
          "data": {
            "text/plain": [
              "<Figure size 792x432 with 1 Axes>"
            ],
            "image/png": "[encoded data removed]"
          },
          "metadata": {
            "needs_background": "light"
          }
        },
        {
          "output_type": "stream",
          "name": "stdout",
          "text": [
            "Best quality on Epoch 25, RMSE = 8.82\n"
          ]
        }
      ]
    },
    {
      "cell_type": "code",
      "source": [
        "#### 7 #### 8.86\n",
        "\n",
        "set_random_seed(23)\n",
        "\n",
        "train_set = Data_set(X_train, y_train)\n",
        "train_loader = torch.utils.data.DataLoader(train_set, batch_size=128)\n",
        "\n",
        "test_set = Data_set(X_test, y_test)\n",
        "test_loader = torch.utils.data.DataLoader(test_set, batch_size=128)\n",
        "\n",
        "model7 = nn.Sequential(\n",
        "    nn.Linear(90, 65),  \n",
        "    nn.ReLU(),         \n",
        "    nn.Linear(65, 30),\n",
        "    nn.ReLU(),       \n",
        "    nn.Linear(30, 9),\n",
        "    nn.ReLU(),\n",
        "    nn.Linear(9, 1)\n",
        ")\n",
        "optimizer = torch.optim.Adam(model7.parameters(), lr= 0.0002)\n",
        "criterion = nn.MSELoss()\n",
        "\n",
        "train(35, model7, optimizer, criterion, train_loader, test_loader, GRAPH = True)"
      ],
      "metadata": {
        "colab": {
          "base_uri": "https://localhost:8080/",
          "height": 405
        },
        "id": "k3-wQwdgSWpI",
        "outputId": "ee99e7fe-d3f7-45c5-e305-973b70c70865"
      },
      "execution_count": 45,
      "outputs": [
        {
          "output_type": "display_data",
          "data": {
            "text/plain": [
              "<Figure size 792x432 with 1 Axes>"
            ],
            "image/png": "[encoded data removed]"
          },
          "metadata": {
            "needs_background": "light"
          }
        },
        {
          "output_type": "stream",
          "name": "stdout",
          "text": [
            "Best quality on Epoch 22, RMSE = 8.80\n"
          ]
        }
      ]
    },
    {
      "cell_type": "markdown",
      "source": [
        "## Лучший результат"
      ],
      "metadata": {
        "id": "lfbx-tfzHaWN"
      }
    },
    {
      "cell_type": "code",
      "source": [
        "#### 7 #### 8.86\n",
        "\n",
        "set_random_seed(23)\n",
        "\n",
        "train_set = Data_set(X_train, y_train)\n",
        "train_loader = torch.utils.data.DataLoader(train_set, batch_size=128)\n",
        "\n",
        "test_set = Data_set(X_test, y_test)\n",
        "test_loader = torch.utils.data.DataLoader(test_set, batch_size=128)\n",
        "\n",
        "model7 = nn.Sequential(\n",
        "    nn.Linear(90, 64),  \n",
        "    nn.ReLU(),         \n",
        "    nn.Linear(64, 30),\n",
        "    nn.ReLU(),       \n",
        "    nn.Linear(30, 9),\n",
        "    nn.ReLU(),\n",
        "    nn.Linear(9, 1)\n",
        ")\n",
        "optimizer = torch.optim.Adam(model7.parameters(), lr= 0.0002)\n",
        "criterion = nn.MSELoss()\n",
        "\n",
        "train(22, model7, optimizer, criterion, train_loader, test_loader, GRAPH = True)"
      ],
      "metadata": {
        "colab": {
          "base_uri": "https://localhost:8080/",
          "height": 405
        },
        "id": "_WGRuV9AFb_J",
        "outputId": "039c81de-078f-4dab-d358-4b57eb6fa8b2"
      },
      "execution_count": 46,
      "outputs": [
        {
          "output_type": "display_data",
          "data": {
            "text/plain": [
              "<Figure size 792x432 with 1 Axes>"
            ],
            "image/png": "[encoded data removed]"
          },
          "metadata": {
            "needs_background": "light"
          }
        },
        {
          "output_type": "stream",
          "name": "stdout",
          "text": [
            "Best quality on Epoch 20, RMSE = 8.79\n"
          ]
        }
      ]
    },
    {
      "cell_type": "markdown",
      "source": [
        "# Эксперимент 3"
      ],
      "metadata": {
        "id": "ls3UFbWEOryV"
      }
    },
    {
      "cell_type": "markdown",
      "source": [
        "## Не будем учитывать неполный батч, и сделаем условие остановки"
      ],
      "metadata": {
        "id": "U68sh0CoO2Yd"
      }
    },
    {
      "cell_type": "code",
      "source": [
        "def epoch_new(model, optimizer, criterion, train_loader, test_loader):\n",
        "\n",
        "    '''\n",
        "    params:\n",
        "        model - torch.nn.Module to be fitted\n",
        "        optimizer - model optimizer\n",
        "        criterion - loss function from torch.nn\n",
        "        train_loader - torch.utils.data.Dataloader with train set\n",
        "        test_loader - torch.utils.data.Dataloader with test set\n",
        "                      (if you wish to validate during training)\n",
        "    '''\n",
        "\n",
        "    for epoch in range(1):                               \n",
        "        for x_train, y_train in train_loader: \n",
        "            if x_train.shape[0] == bs:\n",
        "                y_pred = model(x_train).squeeze(1)       \n",
        "                loss = criterion(y_pred, y_train.to(torch.float32))                   \n",
        "                loss.backward()                        \n",
        "                optimizer.step()                             \n",
        "                optimizer.zero_grad()      \n",
        "\n",
        "def train_new(num_epoch, model, optimizer, criterion, train_loader, test_loader, GRAPH = False):\n",
        "    '''\n",
        "    params:\n",
        "        num_epoch - num of epoch\n",
        "        model - torch.nn.Module to be evaluated on test set\n",
        "        criterion - loss function from torch.nn\n",
        "        test_loader - torch.utils.data.Dataloader with test set\n",
        "        GRAPH - if True, graph will be plotted, defalte = False\n",
        "    ----------\n",
        "    returns:\n",
        "        predicts - torch.tensor with shape (len(test_loader.dataset), ),\n",
        "                   which contains predictions for test objects\n",
        "    '''\n",
        "    \n",
        "    err_dat_test = np.empty(num_epoch)\n",
        "    #err_dat_train = np.empty(num_epoch)\n",
        "\n",
        "    for ep in range(num_epoch):\n",
        "        epoch_new(model, optimizer, criterion, train_loader, test_loader)\n",
        "        y_predict_test = test(model, criterion, test_loader)\n",
        "        err = mse(y_predict_test*y_train_std + y_train_mean, y_test*y_train_std + y_train_mean, squared=False)\n",
        "        err_dat_test[ep] = err\n",
        "\n",
        "\n",
        "        if GRAPH:\n",
        "            if ep == 0:\n",
        "                continue\n",
        "            if err_dat_test[ep-1] < err_dat_test[ep] - 0.0001:\n",
        "                break            \n",
        "            min_ = np.argmin(err_dat_test[:ep+1])\n",
        "\n",
        "            clear_output(True)\n",
        "            plt.figure(figsize=(11,6))\n",
        "\n",
        "            plt.plot(np.array(range(ep+1))+1, err_dat_test[:ep+1], 'v', c='brown', ms=15, label='NN loss by epoch')\n",
        "            # plt.plot(np.array(range(ep+1))+1, err_dat_train[:ep+1], 'v', c='darkgreen', ms=15)\n",
        "\n",
        "            plt.plot([1, ep+1], [err_dat_test[min_], err_dat_test[min_]], '--', c='darkgray', lw=5) \n",
        "\n",
        "            plt.plot([1, ep+1], [9.0, 9.0], '--', c='red', lw=5, label='4') \n",
        "            plt.plot([1, ep+1], [8.9, 8.9], '--', c='orange', lw=5, label='6')\n",
        "            plt.plot([1, ep+1], [8.8, 8.8], '--', c='green', lw=5, label='8') \n",
        "            plt.plot([min_+1],[err_dat_test[min_]], 'v', c='red', ms=19)\n",
        "\n",
        "            plt.xlabel('Number of Epoch')\n",
        "            plt.ylabel('RMSE loss')\n",
        "            plt.legend()\n",
        "\n",
        "            plt.show()\n",
        "\n",
        "            print(('Best quality on Epoch {}, RMSE = {:.2f}'.format(min_+1 ,err_dat_test[min_])))\n"
      ],
      "metadata": {
        "id": "4NWVzOEaPB6w"
      },
      "execution_count": 69,
      "outputs": []
    },
    {
      "cell_type": "markdown",
      "source": [
        "## Графики"
      ],
      "metadata": {
        "id": "wpqGSU7wQ3iK"
      }
    },
    {
      "cell_type": "code",
      "source": [
        "#### 7 #### 8.86\n",
        "\n",
        "set_random_seed(23)\n",
        "\n",
        "bs = 128\n",
        "\n",
        "train_set = Data_set(X_train, y_train)\n",
        "train_loader = torch.utils.data.DataLoader(train_set, batch_size=bs)\n",
        "\n",
        "test_set = Data_set(X_test, y_test)\n",
        "test_loader = torch.utils.data.DataLoader(test_set, batch_size=bs)\n",
        "\n",
        "model7 = nn.Sequential(\n",
        "    nn.Linear(90, 64),  \n",
        "    nn.ReLU(),         \n",
        "    nn.Linear(64, 30),\n",
        "    nn.ReLU(),       \n",
        "    nn.Linear(30, 9),\n",
        "    nn.ReLU(),\n",
        "    nn.Linear(9, 1)\n",
        ")\n",
        "optimizer = torch.optim.Adam(model7.parameters(), lr= 0.0002)\n",
        "criterion = nn.MSELoss()\n",
        "\n",
        "train_new(50, model7, optimizer, criterion, train_loader, test_loader, GRAPH = True)"
      ],
      "metadata": {
        "colab": {
          "base_uri": "https://localhost:8080/",
          "height": 405
        },
        "id": "m-LI0FtERBFY",
        "outputId": "daa68b85-b429-4bdc-e8e8-4d1d0df85384"
      },
      "execution_count": 73,
      "outputs": [
        {
          "output_type": "display_data",
          "data": {
            "text/plain": [
              "<Figure size 792x432 with 1 Axes>"
            ],
            "image/png": "[encoded data removed]"
          },
          "metadata": {
            "needs_background": "light"
          }
        },
        {
          "output_type": "stream",
          "name": "stdout",
          "text": [
            "Best quality on Epoch 20, RMSE = 8.79\n"
          ]
        }
      ]
    }
  ],
  "metadata": {
    "colab": {
      "collapsed_sections": [],
      "provenance": []
    },
    "kernelspec": {
      "display_name": "Python 3",
      "language": "python",
      "name": "python3"
    },
    "language_info": {
      "codemirror_mode": {
        "name": "ipython",
        "version": 3
      },
      "file_extension": ".py",
      "mimetype": "text/x-python",
      "name": "python",
      "nbconvert_exporter": "python",
      "pygments_lexer": "ipython3",
      "version": "3.8.5"
    }
  },
  "nbformat": 4,
  "nbformat_minor": 0
}